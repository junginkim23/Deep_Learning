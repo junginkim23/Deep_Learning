{
 "cells": [
  {
   "cell_type": "code",
   "execution_count": null,
   "metadata": {
    "id": "Pxt5FCokZqh3"
   },
   "outputs": [],
   "source": [
    "import matplotlib.pyplot as plt\n",
    "import torchvision\n",
    "\n",
    "mnist = torchvision.datasets.MNIST(root='./data', train=True, download=True)"
   ]
  },
  {
   "cell_type": "code",
   "execution_count": null,
   "metadata": {
    "id": "bV3cftZN_S9R"
   },
   "outputs": [],
   "source": [
    "print(mnist.data.size()) #총 Mnist 데이터 크기 \n",
    "print(mnist.targets.size()) #0~9까지 데이터\n",
    "print(mnist.targets[0])\n",
    "print(mnist.data[1000])\n",
    "plt.imshow(\n",
    "    mnist.data[59999],\n",
    "    cmap=\"Greys\",\n",
    "    interpolation=\"nearest\", #interpolation(보간법): 알고 있는 데이터 값들을 이용하여 모르는 값을 추정하는 방법의 한 종류이다. \n",
    "    #종류:linear interpolation(끝점의 값이 주어졌을 때 그 사이에 위치한 값을 추정하기 위하여 직선 거리에 따라 선형적으로 계산하는 방법이다.) & Nearest interpolation(새로운 지점 또는 한 지점의 값을 결정하는 데 있어서 주변의 분포한 지점의 값을 분석하여 데이터를 결정함.)\n",
    "    )\n",
    "plt.show()"
   ]
  },
  {
   "cell_type": "code",
   "execution_count": null,
   "metadata": {
    "id": "umayxmXqRNRS"
   },
   "outputs": [],
   "source": [
    "# 관련 패키지 import \n",
    "import torch\n",
    "import torch.nn as nn\n",
    "import torch.nn.functional as F\n",
    "import torchvision\n",
    "import torchvision.transforms as transforms\n",
    "import matplotlib.pyplot as plt "
   ]
  },
  {
   "cell_type": "code",
   "execution_count": null,
   "metadata": {
    "colab": {
     "base_uri": "https://localhost:8080/"
    },
    "id": "gIWrqZuTThdB",
    "outputId": "0cdfe546-8cd7-46da-b7bd-e2de3482c460"
   },
   "outputs": [
    {
     "name": "stdout",
     "output_type": "stream",
     "text": [
      "Tesla P100-PCIE-16GB\n"
     ]
    }
   ],
   "source": [
    "# Device configuration, gpu 사용 가능한 경우 device를 gpu로 설정하고 사용 불가능하면 cpu로 설정\n",
    "device = torch.device('cuda' if torch.cuda.is_available() else 'cpu')\n",
    "print(torch.cuda.get_device_name(device))\n"
   ]
  },
  {
   "cell_type": "code",
   "execution_count": null,
   "metadata": {
    "id": "5RZUEgDUTj-7"
   },
   "outputs": [],
   "source": [
    "# Hyper-parameters -> 사람이 지정해주는 변수들\n",
    "input_size = 784\n",
    "hidden_size = 500\n",
    "num_classes = 10\n",
    "num_epochs = 5\n",
    "batch_size = 100\n",
    "learning_rate = 0.001"
   ]
  },
  {
   "cell_type": "code",
   "execution_count": null,
   "metadata": {
    "colab": {
     "base_uri": "https://localhost:8080/"
    },
    "id": "SCmiaiRxTkuO",
    "outputId": "36ec63e2-2a50-4942-8b08-0885853155ad"
   },
   "outputs": [
    {
     "name": "stdout",
     "output_type": "stream",
     "text": [
      "torchvision.datasets.mnist.MNIST\n"
     ]
    }
   ],
   "source": [
    "# 파이토치에서 제공하는 MNIST dataset\n",
    "train_dataset = torchvision.datasets.MNIST(root='./data',train=True,  #6만장 가지고 옴\n",
    "                                           transform=transforms.ToTensor(), download=True)\n",
    "test_dataset = torchvision.datasets.MNIST(root='./data', train=False, #1만장 가지고 옴 \n",
    "                                          transform=transforms.ToTensor())\n",
    "print(type(test_dataset))"
   ]
  },
  {
   "cell_type": "code",
   "execution_count": null,
   "metadata": {
    "colab": {
     "base_uri": "https://localhost:8080/"
    },
    "id": "T2XQpEiyT2TC",
    "outputId": "1d0a396f-99c9-4b8c-8419-8561e9387dbb"
   },
   "outputs": [
    {
     "data": {
      "text/plain": [
       "100"
      ]
     },
     "execution_count": 7,
     "metadata": {
      "tags": []
     },
     "output_type": "execute_result"
    }
   ],
   "source": [
    "# 배치 단위로 데이터를 처리해주는 Data loader\n",
    "train_loader = torch.utils.data.DataLoader(dataset=train_dataset,\n",
    "                                          batch_size=batch_size,\n",
    "                                          shuffle=True)\n",
    "test_loader = torch.utils.data.DataLoader(dataset=test_dataset,\n",
    "                                         batch_size=batch_size,\n",
    "                                         shuffle=False) #섞을 필요가 없다. \n",
    "                                        \n",
    "len(test_loader)"
   ]
  },
  {
   "cell_type": "code",
   "execution_count": null,
   "metadata": {
    "id": "TbeHBzHMU0i1"
   },
   "outputs": [],
   "source": [
    "class NeuralNet(nn.Module):\n",
    "  def __init__(self, input_size, hidden_size, num_classes):\n",
    "    super(NeuralNet, self).__init__()\n",
    "    #model을 만들어주는 과정, 필요한 네트워크 만듬. 각각 layer \n",
    "    self.fc1 = nn.Linear(input_size, hidden_size)\n",
    "    self.fc2 = nn.Linear(hidden_size, hidden_size)\n",
    "    self.fc3 = nn.Linear(hidden_size, num_classes)\n",
    "    \n",
    "    #forward 과정 , 연결하고 activation function 적용. \n",
    "  def forward(self, x):\n",
    "    out = F.relu(self.fc1(x)) #fully connected->fc1\n",
    "    out = F.relu(self.fc2(out))\n",
    "    out = self.fc3(out)\n",
    "    return out"
   ]
  },
  {
   "cell_type": "code",
   "execution_count": null,
   "metadata": {
    "id": "KnggXRnsU6ZU"
   },
   "outputs": [],
   "source": [
    "model = NeuralNet(input_size, hidden_size, num_classes).to(device) # 모델을 지정한 device로 올려줌 "
   ]
  },
  {
   "cell_type": "code",
   "execution_count": null,
   "metadata": {
    "id": "deqEvyCyVHp_"
   },
   "outputs": [],
   "source": [
    "criterion = nn.CrossEntropyLoss()\n",
    "optimizer = torch.optim.Adam(model.parameters(), lr=learning_rate) #w가중치를 learning rate로 업데이트 -> 업데이트 하는 방법\n",
    "# model.parameters -> 가중치 w들을 의미 "
   ]
  },
  {
   "cell_type": "code",
   "execution_count": null,
   "metadata": {
    "colab": {
     "base_uri": "https://localhost:8080/"
    },
    "id": "eD0wpwSiiafz",
    "outputId": "b7854ed0-490e-42e0-a6c9-ab6761f53f41"
   },
   "outputs": [
    {
     "data": {
      "text/plain": [
       "<bound method Module.parameters of NeuralNet(\n",
       "  (fc1): Linear(in_features=784, out_features=500, bias=True)\n",
       "  (fc2): Linear(in_features=500, out_features=500, bias=True)\n",
       "  (fc3): Linear(in_features=500, out_features=10, bias=True)\n",
       ")>"
      ]
     },
     "execution_count": 11,
     "metadata": {
      "tags": []
     },
     "output_type": "execute_result"
    }
   ],
   "source": [
    "model.parameters"
   ]
  },
  {
   "cell_type": "code",
   "execution_count": null,
   "metadata": {
    "id": "OUVVDfUXVPKY"
   },
   "outputs": [],
   "source": [
    "loss_arr = []\n",
    "total_step = len(train_loader) #total_step -> Iteration과 동일"
   ]
  },
  {
   "cell_type": "code",
   "execution_count": null,
   "metadata": {
    "colab": {
     "base_uri": "https://localhost:8080/"
    },
    "id": "fWTOd0jk2CYM",
    "outputId": "fb0b7bbc-8469-4df7-dfb8-85ad774576df"
   },
   "outputs": [
    {
     "data": {
      "text/plain": [
       "600"
      ]
     },
     "execution_count": 13,
     "metadata": {
      "tags": []
     },
     "output_type": "execute_result"
    }
   ],
   "source": [
    "total_step"
   ]
  },
  {
   "cell_type": "code",
   "execution_count": null,
   "metadata": {
    "id": "Mq_v-6Y_VUuO"
   },
   "outputs": [],
   "source": [
    "for epoch in range(num_epochs):\n",
    "  for i, (images, labels) in enumerate(train_loader):\n",
    "    # Move tensors to the configured device\n",
    "    images = images.reshape(-1, 28*28).to(device) #-1: batch size 의미 \n",
    "    labels = labels.to(device)\n",
    "\t# Forward pass\n",
    "    outputs = model(images)\n",
    "    loss = criterion(outputs, labels)\n",
    "\t# Backward and optimize\n",
    "    optimizer.zero_grad() # iteration 마다 gradient를 0으로 초기화\n",
    "    loss.backward() # 가중치 w에 대해 loss를 미분\n",
    "    optimizer.step() # 가중치들을 업데이트\n",
    "\n",
    "    if (i+1) % 100 == 0:\n",
    "      loss_arr.append(loss)\n",
    "      print('Epoch [{}/{}], Step [{}/{}], Loss: {:.4f}'\n",
    "          .format(epoch+1, num_epochs, i+1, total_step, loss.item()))"
   ]
  },
  {
   "cell_type": "code",
   "execution_count": null,
   "metadata": {
    "colab": {
     "base_uri": "https://localhost:8080/"
    },
    "id": "NEjrGQh0Vs1J",
    "outputId": "d44cd1dc-1176-4d2b-ae46-6db6b7a2c3c1"
   },
   "outputs": [
    {
     "name": "stdout",
     "output_type": "stream",
     "text": [
      "Accuracy of the network on the 10000 test images: 99.0 %\n",
      "<class 'torch.Tensor'>\n",
      "<class 'torch.Tensor'>\n"
     ]
    }
   ],
   "source": [
    "# Test the model #모델 확인\n",
    "# In test phase, we don't need to compute gradients (for memory efficiency)\n",
    "with torch.no_grad(): #forward backward가 나타나는 그라디언트 그래프를 그리지마라.\n",
    "  correct = 0\n",
    "  total = 0\n",
    "  for images, labels in test_loader:\n",
    "    images = images.reshape(-1, 28*28).to(device) \n",
    "    labels = labels.to(device)\n",
    "    outputs = model(images)\n",
    "  _, predicted = torch.max(outputs.data, 1) \n",
    "  total += labels.size(0)\n",
    "  correct += (predicted == labels).sum().item() #맞은 개수를 반환 \n",
    "\n",
    "print('Accuracy of the network on the 10000 test images: {} %'.format(100 * correct / total))\n",
    "print(type(labels))\n",
    "print(type(images))"
   ]
  },
  {
   "cell_type": "code",
   "execution_count": null,
   "metadata": {
    "id": "xn7Yf_XvWie4"
   },
   "outputs": [],
   "source": [
    "# Save the model checkpoint #모델 저장\n",
    "torch.save(model.state_dict(), 'model.ckpt')\n",
    "plt.plot(loss_arr)\n",
    "plt.show()\n",
    "print(model.state_dict())"
   ]
  },
  {
   "cell_type": "code",
   "execution_count": null,
   "metadata": {
    "colab": {
     "base_uri": "https://localhost:8080/"
    },
    "id": "_jCSIRQKeRsB",
    "outputId": "96c06d38-5ff5-4259-c764-13d3e6dabea4"
   },
   "outputs": [
    {
     "name": "stdout",
     "output_type": "stream",
     "text": [
      "<generator object Module.parameters at 0x7efd856a8a98>\n"
     ]
    }
   ],
   "source": [
    "print(model.parameters())"
   ]
  }
 ],
 "metadata": {
  "accelerator": "GPU",
  "colab": {
   "collapsed_sections": [],
   "name": " Development of handwriting recognizer",
   "provenance": []
  },
  "kernelspec": {
   "display_name": "Python 3",
   "language": "python",
   "name": "python3"
  },
  "language_info": {
   "codemirror_mode": {
    "name": "ipython",
    "version": 3
   },
   "file_extension": ".py",
   "mimetype": "text/x-python",
   "name": "python",
   "nbconvert_exporter": "python",
   "pygments_lexer": "ipython3",
   "version": "3.7.6"
  }
 },
 "nbformat": 4,
 "nbformat_minor": 1
}
